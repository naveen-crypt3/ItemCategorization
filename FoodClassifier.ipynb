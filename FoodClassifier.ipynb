{
  "nbformat": 4,
  "nbformat_minor": 0,
  "metadata": {
    "colab": {
      "provenance": [],
      "authorship_tag": "ABX9TyOwubBgWXkl9Fw8+pDp/hFC",
      "include_colab_link": true
    },
    "kernelspec": {
      "name": "python3",
      "display_name": "Python 3"
    },
    "language_info": {
      "name": "python"
    }
  },
  "cells": [
    {
      "cell_type": "markdown",
      "metadata": {
        "id": "view-in-github",
        "colab_type": "text"
      },
      "source": [
        "<a href=\"https://colab.research.google.com/github/naveen-crypt3/ItemCategorization/blob/main/FoodClassifier.ipynb\" target=\"_parent\"><img src=\"https://colab.research.google.com/assets/colab-badge.svg\" alt=\"Open In Colab\"/></a>"
      ]
    },
    {
      "cell_type": "code",
      "execution_count": null,
      "metadata": {
        "id": "mzlblABPiTdz"
      },
      "outputs": [],
      "source": [
        "import pandas as pd\n",
        "from sklearn.feature_extraction.text import TfidfVectorizer\n",
        "from sklearn.model_selection import train_test_split\n",
        "from sklearn.ensemble import RandomForestClassifier\n",
        "from sklearn.metrics import accuracy_score, precision_score\n",
        "import numpy as np\n",
        "import matplotlib.pyplot as plt\n",
        "\n",
        "data = pd.read_excel(\"/content/sample_data/FoodList1.xlsx\")\n",
        "food_description = data[\"Food\"]"
      ]
    },
    {
      "cell_type": "code",
      "execution_count": null,
      "metadata": {
        "id": "ZKE1rOLeZm_k"
      },
      "outputs": [],
      "source": [
        "vectorizer = TfidfVectorizer()\n",
        "features_vectorized = vectorizer.fit_transform(food_description)"
      ]
    },
    {
      "cell_type": "code",
      "source": [
        "target_cuisine = data[\"Cuisine\"]\n",
        "target_dietary = data[\"Dietary Preference\"]\n",
        "target_meal_course = data[\"Meal Course\"]\n",
        "target_prepare=data[\"Preparation Method\"]\n",
        "target_main=data[\"Main Ingredient\"]\n",
        "\n",
        "X_train, X_test, y_train_cuisine, y_test_cuisine = train_test_split(features_vectorized, target_cuisine, test_size=0.2, random_state=42)\n",
        "X_train, X_test, y_train_dietary, y_test_dietary = train_test_split(features_vectorized, target_dietary, test_size=0.2, random_state=42)\n",
        "X_train, X_test, y_train_meal_course, y_test_meal_course = train_test_split(features_vectorized, target_meal_course, test_size=0.2, random_state=42)\n",
        "X_train, X_test, y_train_prepare, y_test_prepare = train_test_split(features_vectorized, target_prepare, test_size=0.2, random_state=42)\n",
        "X_train, X_test, y_train_main, y_test_main = train_test_split(features_vectorized, target_main, test_size=0.2, random_state=42)"
      ],
      "metadata": {
        "id": "7EY16YmWia2w"
      },
      "execution_count": null,
      "outputs": []
    },
    {
      "cell_type": "code",
      "source": [
        "model_cuisine = RandomForestClassifier()\n",
        "model_cuisine.fit(X_train, y_train_cuisine)\n",
        "\n",
        "model_prepare = RandomForestClassifier()\n",
        "model_prepare.fit(X_train,y_train_prepare)\n",
        "\n",
        "model_dietary = RandomForestClassifier()\n",
        "model_dietary.fit(X_train, y_train_dietary)\n",
        "\n",
        "model_meal_course = RandomForestClassifier()\n",
        "model_meal_course.fit(X_train, y_train_meal_course)\n",
        "\n",
        "model_main = RandomForestClassifier()\n",
        "model_main.fit(X_train, y_train_main)"
      ],
      "metadata": {
        "colab": {
          "base_uri": "https://localhost:8080/",
          "height": 74
        },
        "id": "7ezR07Nqia92",
        "outputId": "3abd1809-39cb-4d91-9290-6bc972da50f5"
      },
      "execution_count": null,
      "outputs": [
        {
          "output_type": "execute_result",
          "data": {
            "text/plain": [
              "RandomForestClassifier()"
            ],
            "text/html": [
              "<style>#sk-container-id-1 {color: black;background-color: white;}#sk-container-id-1 pre{padding: 0;}#sk-container-id-1 div.sk-toggleable {background-color: white;}#sk-container-id-1 label.sk-toggleable__label {cursor: pointer;display: block;width: 100%;margin-bottom: 0;padding: 0.3em;box-sizing: border-box;text-align: center;}#sk-container-id-1 label.sk-toggleable__label-arrow:before {content: \"▸\";float: left;margin-right: 0.25em;color: #696969;}#sk-container-id-1 label.sk-toggleable__label-arrow:hover:before {color: black;}#sk-container-id-1 div.sk-estimator:hover label.sk-toggleable__label-arrow:before {color: black;}#sk-container-id-1 div.sk-toggleable__content {max-height: 0;max-width: 0;overflow: hidden;text-align: left;background-color: #f0f8ff;}#sk-container-id-1 div.sk-toggleable__content pre {margin: 0.2em;color: black;border-radius: 0.25em;background-color: #f0f8ff;}#sk-container-id-1 input.sk-toggleable__control:checked~div.sk-toggleable__content {max-height: 200px;max-width: 100%;overflow: auto;}#sk-container-id-1 input.sk-toggleable__control:checked~label.sk-toggleable__label-arrow:before {content: \"▾\";}#sk-container-id-1 div.sk-estimator input.sk-toggleable__control:checked~label.sk-toggleable__label {background-color: #d4ebff;}#sk-container-id-1 div.sk-label input.sk-toggleable__control:checked~label.sk-toggleable__label {background-color: #d4ebff;}#sk-container-id-1 input.sk-hidden--visually {border: 0;clip: rect(1px 1px 1px 1px);clip: rect(1px, 1px, 1px, 1px);height: 1px;margin: -1px;overflow: hidden;padding: 0;position: absolute;width: 1px;}#sk-container-id-1 div.sk-estimator {font-family: monospace;background-color: #f0f8ff;border: 1px dotted black;border-radius: 0.25em;box-sizing: border-box;margin-bottom: 0.5em;}#sk-container-id-1 div.sk-estimator:hover {background-color: #d4ebff;}#sk-container-id-1 div.sk-parallel-item::after {content: \"\";width: 100%;border-bottom: 1px solid gray;flex-grow: 1;}#sk-container-id-1 div.sk-label:hover label.sk-toggleable__label {background-color: #d4ebff;}#sk-container-id-1 div.sk-serial::before {content: \"\";position: absolute;border-left: 1px solid gray;box-sizing: border-box;top: 0;bottom: 0;left: 50%;z-index: 0;}#sk-container-id-1 div.sk-serial {display: flex;flex-direction: column;align-items: center;background-color: white;padding-right: 0.2em;padding-left: 0.2em;position: relative;}#sk-container-id-1 div.sk-item {position: relative;z-index: 1;}#sk-container-id-1 div.sk-parallel {display: flex;align-items: stretch;justify-content: center;background-color: white;position: relative;}#sk-container-id-1 div.sk-item::before, #sk-container-id-1 div.sk-parallel-item::before {content: \"\";position: absolute;border-left: 1px solid gray;box-sizing: border-box;top: 0;bottom: 0;left: 50%;z-index: -1;}#sk-container-id-1 div.sk-parallel-item {display: flex;flex-direction: column;z-index: 1;position: relative;background-color: white;}#sk-container-id-1 div.sk-parallel-item:first-child::after {align-self: flex-end;width: 50%;}#sk-container-id-1 div.sk-parallel-item:last-child::after {align-self: flex-start;width: 50%;}#sk-container-id-1 div.sk-parallel-item:only-child::after {width: 0;}#sk-container-id-1 div.sk-dashed-wrapped {border: 1px dashed gray;margin: 0 0.4em 0.5em 0.4em;box-sizing: border-box;padding-bottom: 0.4em;background-color: white;}#sk-container-id-1 div.sk-label label {font-family: monospace;font-weight: bold;display: inline-block;line-height: 1.2em;}#sk-container-id-1 div.sk-label-container {text-align: center;}#sk-container-id-1 div.sk-container {/* jupyter's `normalize.less` sets `[hidden] { display: none; }` but bootstrap.min.css set `[hidden] { display: none !important; }` so we also need the `!important` here to be able to override the default hidden behavior on the sphinx rendered scikit-learn.org. See: https://github.com/scikit-learn/scikit-learn/issues/21755 */display: inline-block !important;position: relative;}#sk-container-id-1 div.sk-text-repr-fallback {display: none;}</style><div id=\"sk-container-id-1\" class=\"sk-top-container\"><div class=\"sk-text-repr-fallback\"><pre>RandomForestClassifier()</pre><b>In a Jupyter environment, please rerun this cell to show the HTML representation or trust the notebook. <br />On GitHub, the HTML representation is unable to render, please try loading this page with nbviewer.org.</b></div><div class=\"sk-container\" hidden><div class=\"sk-item\"><div class=\"sk-estimator sk-toggleable\"><input class=\"sk-toggleable__control sk-hidden--visually\" id=\"sk-estimator-id-1\" type=\"checkbox\" checked><label for=\"sk-estimator-id-1\" class=\"sk-toggleable__label sk-toggleable__label-arrow\">RandomForestClassifier</label><div class=\"sk-toggleable__content\"><pre>RandomForestClassifier()</pre></div></div></div></div></div>"
            ]
          },
          "metadata": {},
          "execution_count": 4
        }
      ]
    },
    {
      "cell_type": "code",
      "source": [
        "def predict_food_details(food_item):\n",
        "  user_features = vectorizer.transform([food_item.lower()])\n",
        "  predicted_cuisine = model_cuisine.predict(user_features)[0]\n",
        "  predicted_dietary = model_dietary.predict(user_features)[0]\n",
        "  predicted_meal_course = model_meal_course.predict(user_features)[0]\n",
        "  predicted_prepare = model_prepare.predict(user_features)[0]\n",
        "  predicted_main = model_main.predict(user_features)[0]\n",
        "  return {\n",
        "      \"Food\": food_item,\n",
        "      \"Cuisine\": predicted_cuisine,\n",
        "      \"Dietary Preference\": predicted_dietary,\n",
        "      \"Preparation Method\": predicted_prepare,\n",
        "      \"Meal Course\": predicted_meal_course,\n",
        "      \"Main Ingredient\": predicted_main + \" based\"\n",
        "  }\n"
      ],
      "metadata": {
        "id": "4QDZZqwlibJe"
      },
      "execution_count": null,
      "outputs": []
    },
    {
      "cell_type": "code",
      "source": [
        "food_item = input(\"Enter a food item: \")\n",
        "predictions = predict_food_details(food_item)\n",
        "print(f\"\\nPredictions for '{food_item}':\")\n",
        "for key, value in predictions.items():\n",
        "    print(f\"  {key}: {value}\")\n",
        "\n",
        "cuisine_accuracy = accuracy_score(y_test_cuisine, model_cuisine.predict(X_test))\n",
        "dietary_accuracy = accuracy_score(y_test_dietary, model_dietary.predict(X_test))\n",
        "meal_course_accuracy = accuracy_score(y_test_meal_course, model_meal_course.predict(X_test))\n",
        "prepare_accuracy = accuracy_score(y_test_prepare,model_prepare.predict(X_test))\n",
        "\n",
        "cuisine_precision = precision_score(y_test_cuisine, model_cuisine.predict(X_test), average='weighted',zero_division='warn')\n",
        "dietary_precision = precision_score(y_test_dietary, model_dietary.predict(X_test), average='weighted',zero_division='warn')\n",
        "meal_course_precision = precision_score(y_test_meal_course, model_meal_course.predict(X_test), average='weighted',zero_division='warn')\n",
        "prepare_precision = precision_score(y_test_prepare,model_prepare.predict(X_test),average='weighted',zero_division='warn')\n",
        "\n",
        "print(f\"\\nAccuracy:\")\n",
        "print(f\"  Cuisine: {cuisine_accuracy:.4f}\")\n",
        "print(f\"  Dietary Preference: {dietary_accuracy:.4f}\")\n",
        "print(f\"  Meal Course: {meal_course_accuracy:.4f}\")\n",
        "print(f\"  Preparation Method: {prepare_accuracy:.4f}\")\n",
        "\n",
        "print(f\"\\nPrecision:\")\n",
        "print(f\"  Cuisine: {cuisine_precision:.4f}\")\n",
        "print(f\"  Dietary Preference: {dietary_precision:.4f}\")\n",
        "print(f\"  Meal Course: {meal_course_precision:.4f}\")\n",
        "print(f\"  Preparation Method: {prepare_precision:.4f}\")\n",
        "\n",
        "accuracy_scores = [cuisine_accuracy, dietary_accuracy, meal_course_accuracy, prepare_accuracy]\n",
        "precision_scores = [cuisine_precision, dietary_precision, meal_course_precision, prepare_precision]\n",
        "\n",
        "categories = ['Cuisine', 'Dietary Preference', 'Meal Course', 'Preparation Method']\n",
        "fig, ax = plt.subplots()\n",
        "bar_width = 0.35\n",
        "index = np.arange(len(categories))\n",
        "accuracy_bar = plt.bar(index, accuracy_scores, bar_width, color='b', label='Accuracy')\n",
        "precision_bar = plt.bar(index + bar_width, precision_scores, bar_width, color='g', label='Precision')\n",
        "\n",
        "plt.xlabel('Category')\n",
        "plt.ylabel('Scores')\n",
        "plt.title('Accuracy and Precision for Each Category')\n",
        "plt.xticks(index + bar_width / 2, categories)\n",
        "plt.legend()\n",
        "\n",
        "plt.tight_layout()\n",
        "plt.show()"
      ],
      "metadata": {
        "colab": {
          "base_uri": "https://localhost:8080/",
          "height": 1000
        },
        "id": "GqP8hhCtiiVx",
        "outputId": "a9fa3dbd-7202-457e-b896-7a8b5a56b5d2"
      },
      "execution_count": null,
      "outputs": [
        {
          "output_type": "stream",
          "name": "stdout",
          "text": [
            "Enter a food item: Onion Dosa\n",
            "\n",
            "Predictions for 'Onion Dosa':\n",
            "  Food: Onion Dosa\n",
            "  Cuisine: South Indian\n",
            "  Dietary Preference: Vegan\n",
            "  Preparation Method: Cooked on a griddle\n",
            "  Meal Course: Breakfast\n",
            "  Main Ingredient: Rice, lentils based\n",
            "\n",
            "Accuracy:\n",
            "  Cuisine: 0.4091\n",
            "  Dietary Preference: 0.5000\n",
            "  Meal Course: 0.4091\n",
            "  Preparation Method: 0.1818\n",
            "\n",
            "Precision:\n",
            "  Cuisine: 0.4113\n",
            "  Dietary Preference: 0.6077\n",
            "  Meal Course: 0.1674\n",
            "  Preparation Method: 0.0939\n"
          ]
        },
        {
          "output_type": "stream",
          "name": "stderr",
          "text": [
            "/usr/local/lib/python3.10/dist-packages/sklearn/metrics/_classification.py:1344: UndefinedMetricWarning: Precision is ill-defined and being set to 0.0 in labels with no predicted samples. Use `zero_division` parameter to control this behavior.\n",
            "  _warn_prf(average, modifier, msg_start, len(result))\n",
            "/usr/local/lib/python3.10/dist-packages/sklearn/metrics/_classification.py:1344: UndefinedMetricWarning: Precision is ill-defined and being set to 0.0 in labels with no predicted samples. Use `zero_division` parameter to control this behavior.\n",
            "  _warn_prf(average, modifier, msg_start, len(result))\n",
            "/usr/local/lib/python3.10/dist-packages/sklearn/metrics/_classification.py:1344: UndefinedMetricWarning: Precision is ill-defined and being set to 0.0 in labels with no predicted samples. Use `zero_division` parameter to control this behavior.\n",
            "  _warn_prf(average, modifier, msg_start, len(result))\n",
            "/usr/local/lib/python3.10/dist-packages/sklearn/metrics/_classification.py:1344: UndefinedMetricWarning: Precision is ill-defined and being set to 0.0 in labels with no predicted samples. Use `zero_division` parameter to control this behavior.\n",
            "  _warn_prf(average, modifier, msg_start, len(result))\n"
          ]
        },
        {
          "output_type": "display_data",
          "data": {
            "text/plain": [
              "<Figure size 640x480 with 1 Axes>"
            ],
            "image/png": "[encoded data removed]"
          },
          "metadata": {}
        }
      ]
    }
  ]
}